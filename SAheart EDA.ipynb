{
 "cells": [
  {
   "cell_type": "code",
   "execution_count": 1,
   "id": "c6c91cbb",
   "metadata": {},
   "outputs": [],
   "source": [
    "# import libraries\n",
    "import pandas as pd\n",
    "import matplotlib.pyplot as plt\n",
    "import seaborn as sns\n",
    "import numpy as np\n",
    "import warnings\n",
    "warnings.filterwarnings('ignore')"
   ]
  },
  {
   "cell_type": "code",
   "execution_count": 2,
   "id": "a44a7a95",
   "metadata": {},
   "outputs": [],
   "source": [
    "# load dataset in a data frame\n",
    "data=pd.read_csv('https://hastie.su.domains/ElemStatLearn/datasets/SAheart.data')"
   ]
  },
  {
   "cell_type": "code",
   "execution_count": 3,
   "id": "22a5da08",
   "metadata": {},
   "outputs": [],
   "source": [
    "# create copy of dataset for backup\n",
    "data_copy=data.copy()"
   ]
  },
  {
   "cell_type": "code",
   "execution_count": 4,
   "id": "d58da1e5",
   "metadata": {},
   "outputs": [
    {
     "data": {
      "text/html": [
       "<div>\n",
       "<style scoped>\n",
       "    .dataframe tbody tr th:only-of-type {\n",
       "        vertical-align: middle;\n",
       "    }\n",
       "\n",
       "    .dataframe tbody tr th {\n",
       "        vertical-align: top;\n",
       "    }\n",
       "\n",
       "    .dataframe thead th {\n",
       "        text-align: right;\n",
       "    }\n",
       "</style>\n",
       "<table border=\"1\" class=\"dataframe\">\n",
       "  <thead>\n",
       "    <tr style=\"text-align: right;\">\n",
       "      <th></th>\n",
       "      <th>row.names</th>\n",
       "      <th>sbp</th>\n",
       "      <th>tobacco</th>\n",
       "      <th>ldl</th>\n",
       "      <th>adiposity</th>\n",
       "      <th>famhist</th>\n",
       "      <th>typea</th>\n",
       "      <th>obesity</th>\n",
       "      <th>alcohol</th>\n",
       "      <th>age</th>\n",
       "      <th>chd</th>\n",
       "    </tr>\n",
       "  </thead>\n",
       "  <tbody>\n",
       "    <tr>\n",
       "      <th>0</th>\n",
       "      <td>1</td>\n",
       "      <td>160</td>\n",
       "      <td>12.00</td>\n",
       "      <td>5.73</td>\n",
       "      <td>23.11</td>\n",
       "      <td>Present</td>\n",
       "      <td>49</td>\n",
       "      <td>25.30</td>\n",
       "      <td>97.20</td>\n",
       "      <td>52</td>\n",
       "      <td>1</td>\n",
       "    </tr>\n",
       "    <tr>\n",
       "      <th>1</th>\n",
       "      <td>2</td>\n",
       "      <td>144</td>\n",
       "      <td>0.01</td>\n",
       "      <td>4.41</td>\n",
       "      <td>28.61</td>\n",
       "      <td>Absent</td>\n",
       "      <td>55</td>\n",
       "      <td>28.87</td>\n",
       "      <td>2.06</td>\n",
       "      <td>63</td>\n",
       "      <td>1</td>\n",
       "    </tr>\n",
       "    <tr>\n",
       "      <th>2</th>\n",
       "      <td>3</td>\n",
       "      <td>118</td>\n",
       "      <td>0.08</td>\n",
       "      <td>3.48</td>\n",
       "      <td>32.28</td>\n",
       "      <td>Present</td>\n",
       "      <td>52</td>\n",
       "      <td>29.14</td>\n",
       "      <td>3.81</td>\n",
       "      <td>46</td>\n",
       "      <td>0</td>\n",
       "    </tr>\n",
       "    <tr>\n",
       "      <th>3</th>\n",
       "      <td>4</td>\n",
       "      <td>170</td>\n",
       "      <td>7.50</td>\n",
       "      <td>6.41</td>\n",
       "      <td>38.03</td>\n",
       "      <td>Present</td>\n",
       "      <td>51</td>\n",
       "      <td>31.99</td>\n",
       "      <td>24.26</td>\n",
       "      <td>58</td>\n",
       "      <td>1</td>\n",
       "    </tr>\n",
       "    <tr>\n",
       "      <th>4</th>\n",
       "      <td>5</td>\n",
       "      <td>134</td>\n",
       "      <td>13.60</td>\n",
       "      <td>3.50</td>\n",
       "      <td>27.78</td>\n",
       "      <td>Present</td>\n",
       "      <td>60</td>\n",
       "      <td>25.99</td>\n",
       "      <td>57.34</td>\n",
       "      <td>49</td>\n",
       "      <td>1</td>\n",
       "    </tr>\n",
       "  </tbody>\n",
       "</table>\n",
       "</div>"
      ],
      "text/plain": [
       "   row.names  sbp  tobacco   ldl  adiposity  famhist  typea  obesity  alcohol  \\\n",
       "0          1  160    12.00  5.73      23.11  Present     49    25.30    97.20   \n",
       "1          2  144     0.01  4.41      28.61   Absent     55    28.87     2.06   \n",
       "2          3  118     0.08  3.48      32.28  Present     52    29.14     3.81   \n",
       "3          4  170     7.50  6.41      38.03  Present     51    31.99    24.26   \n",
       "4          5  134    13.60  3.50      27.78  Present     60    25.99    57.34   \n",
       "\n",
       "   age  chd  \n",
       "0   52    1  \n",
       "1   63    1  \n",
       "2   46    0  \n",
       "3   58    1  \n",
       "4   49    1  "
      ]
     },
     "execution_count": 4,
     "metadata": {},
     "output_type": "execute_result"
    }
   ],
   "source": [
    "# checking first 5 entries\n",
    "data.head()"
   ]
  },
  {
   "cell_type": "code",
   "execution_count": 5,
   "id": "da7a35c0",
   "metadata": {},
   "outputs": [
    {
     "data": {
      "text/plain": [
       "(462, 11)"
      ]
     },
     "execution_count": 5,
     "metadata": {},
     "output_type": "execute_result"
    }
   ],
   "source": [
    "# number of rows and columns in a data\n",
    "data.shape"
   ]
  },
  {
   "cell_type": "code",
   "execution_count": 6,
   "id": "2fbe8656",
   "metadata": {},
   "outputs": [
    {
     "name": "stdout",
     "output_type": "stream",
     "text": [
      "<class 'pandas.core.frame.DataFrame'>\n",
      "RangeIndex: 462 entries, 0 to 461\n",
      "Data columns (total 11 columns):\n",
      " #   Column     Non-Null Count  Dtype  \n",
      "---  ------     --------------  -----  \n",
      " 0   row.names  462 non-null    int64  \n",
      " 1   sbp        462 non-null    int64  \n",
      " 2   tobacco    462 non-null    float64\n",
      " 3   ldl        462 non-null    float64\n",
      " 4   adiposity  462 non-null    float64\n",
      " 5   famhist    462 non-null    object \n",
      " 6   typea      462 non-null    int64  \n",
      " 7   obesity    462 non-null    float64\n",
      " 8   alcohol    462 non-null    float64\n",
      " 9   age        462 non-null    int64  \n",
      " 10  chd        462 non-null    int64  \n",
      "dtypes: float64(5), int64(5), object(1)\n",
      "memory usage: 39.8+ KB\n"
     ]
    }
   ],
   "source": [
    "# getting information (metadata)\n",
    "data.info()"
   ]
  },
  {
   "cell_type": "code",
   "execution_count": 7,
   "id": "c8e733f9",
   "metadata": {},
   "outputs": [
    {
     "data": {
      "text/plain": [
       "pandas.core.frame.DataFrame"
      ]
     },
     "execution_count": 7,
     "metadata": {},
     "output_type": "execute_result"
    }
   ],
   "source": [
    "# checking type of data \n",
    "type(data)"
   ]
  },
  {
   "cell_type": "code",
   "execution_count": 8,
   "id": "a35698e0",
   "metadata": {},
   "outputs": [
    {
     "data": {
      "text/plain": [
       "Index(['row.names', 'sbp', 'tobacco', 'ldl', 'adiposity', 'famhist', 'typea',\n",
       "       'obesity', 'alcohol', 'age', 'chd'],\n",
       "      dtype='object')"
      ]
     },
     "execution_count": 8,
     "metadata": {},
     "output_type": "execute_result"
    }
   ],
   "source": [
    "# getting column names of the dataset\n",
    "data.columns"
   ]
  },
  {
   "cell_type": "code",
   "execution_count": 9,
   "id": "6d70fc55",
   "metadata": {},
   "outputs": [
    {
     "data": {
      "text/plain": [
       "['row.names',\n",
       " 'sbp',\n",
       " 'tobacco',\n",
       " 'ldl',\n",
       " 'adiposity',\n",
       " 'famhist',\n",
       " 'typea',\n",
       " 'obesity',\n",
       " 'alcohol',\n",
       " 'age',\n",
       " 'chd']"
      ]
     },
     "execution_count": 9,
     "metadata": {},
     "output_type": "execute_result"
    }
   ],
   "source": [
    "# getting column names of the dataset in the list form\n",
    "list(data.columns)"
   ]
  },
  {
   "cell_type": "code",
   "execution_count": 10,
   "id": "1f5fb5eb",
   "metadata": {},
   "outputs": [
    {
     "data": {
      "text/html": [
       "<div>\n",
       "<style scoped>\n",
       "    .dataframe tbody tr th:only-of-type {\n",
       "        vertical-align: middle;\n",
       "    }\n",
       "\n",
       "    .dataframe tbody tr th {\n",
       "        vertical-align: top;\n",
       "    }\n",
       "\n",
       "    .dataframe thead th {\n",
       "        text-align: right;\n",
       "    }\n",
       "</style>\n",
       "<table border=\"1\" class=\"dataframe\">\n",
       "  <thead>\n",
       "    <tr style=\"text-align: right;\">\n",
       "      <th></th>\n",
       "      <th>row.names</th>\n",
       "      <th>sbp</th>\n",
       "      <th>tobacco</th>\n",
       "      <th>ldl</th>\n",
       "      <th>adiposity</th>\n",
       "      <th>famhist</th>\n",
       "      <th>typea</th>\n",
       "      <th>obesity</th>\n",
       "      <th>alcohol</th>\n",
       "      <th>age</th>\n",
       "      <th>chd</th>\n",
       "    </tr>\n",
       "  </thead>\n",
       "  <tbody>\n",
       "    <tr>\n",
       "      <th>0</th>\n",
       "      <td>1</td>\n",
       "      <td>160</td>\n",
       "      <td>12.00</td>\n",
       "      <td>5.73</td>\n",
       "      <td>23.11</td>\n",
       "      <td>Present</td>\n",
       "      <td>49</td>\n",
       "      <td>25.30</td>\n",
       "      <td>97.20</td>\n",
       "      <td>52</td>\n",
       "      <td>1</td>\n",
       "    </tr>\n",
       "    <tr>\n",
       "      <th>1</th>\n",
       "      <td>2</td>\n",
       "      <td>144</td>\n",
       "      <td>0.01</td>\n",
       "      <td>4.41</td>\n",
       "      <td>28.61</td>\n",
       "      <td>Absent</td>\n",
       "      <td>55</td>\n",
       "      <td>28.87</td>\n",
       "      <td>2.06</td>\n",
       "      <td>63</td>\n",
       "      <td>1</td>\n",
       "    </tr>\n",
       "    <tr>\n",
       "      <th>2</th>\n",
       "      <td>3</td>\n",
       "      <td>118</td>\n",
       "      <td>0.08</td>\n",
       "      <td>3.48</td>\n",
       "      <td>32.28</td>\n",
       "      <td>Present</td>\n",
       "      <td>52</td>\n",
       "      <td>29.14</td>\n",
       "      <td>3.81</td>\n",
       "      <td>46</td>\n",
       "      <td>0</td>\n",
       "    </tr>\n",
       "    <tr>\n",
       "      <th>3</th>\n",
       "      <td>4</td>\n",
       "      <td>170</td>\n",
       "      <td>7.50</td>\n",
       "      <td>6.41</td>\n",
       "      <td>38.03</td>\n",
       "      <td>Present</td>\n",
       "      <td>51</td>\n",
       "      <td>31.99</td>\n",
       "      <td>24.26</td>\n",
       "      <td>58</td>\n",
       "      <td>1</td>\n",
       "    </tr>\n",
       "    <tr>\n",
       "      <th>4</th>\n",
       "      <td>5</td>\n",
       "      <td>134</td>\n",
       "      <td>13.60</td>\n",
       "      <td>3.50</td>\n",
       "      <td>27.78</td>\n",
       "      <td>Present</td>\n",
       "      <td>60</td>\n",
       "      <td>25.99</td>\n",
       "      <td>57.34</td>\n",
       "      <td>49</td>\n",
       "      <td>1</td>\n",
       "    </tr>\n",
       "  </tbody>\n",
       "</table>\n",
       "</div>"
      ],
      "text/plain": [
       "   row.names  sbp  tobacco   ldl  adiposity  famhist  typea  obesity  alcohol  \\\n",
       "0          1  160    12.00  5.73      23.11  Present     49    25.30    97.20   \n",
       "1          2  144     0.01  4.41      28.61   Absent     55    28.87     2.06   \n",
       "2          3  118     0.08  3.48      32.28  Present     52    29.14     3.81   \n",
       "3          4  170     7.50  6.41      38.03  Present     51    31.99    24.26   \n",
       "4          5  134    13.60  3.50      27.78  Present     60    25.99    57.34   \n",
       "\n",
       "   age  chd  \n",
       "0   52    1  \n",
       "1   63    1  \n",
       "2   46    0  \n",
       "3   58    1  \n",
       "4   49    1  "
      ]
     },
     "execution_count": 10,
     "metadata": {},
     "output_type": "execute_result"
    }
   ],
   "source": [
    "# trying slicing to get first 5 records\n",
    "data[:5]"
   ]
  },
  {
   "cell_type": "code",
   "execution_count": 11,
   "id": "84d41cef",
   "metadata": {},
   "outputs": [
    {
     "data": {
      "text/html": [
       "<div>\n",
       "<style scoped>\n",
       "    .dataframe tbody tr th:only-of-type {\n",
       "        vertical-align: middle;\n",
       "    }\n",
       "\n",
       "    .dataframe tbody tr th {\n",
       "        vertical-align: top;\n",
       "    }\n",
       "\n",
       "    .dataframe thead th {\n",
       "        text-align: right;\n",
       "    }\n",
       "</style>\n",
       "<table border=\"1\" class=\"dataframe\">\n",
       "  <thead>\n",
       "    <tr style=\"text-align: right;\">\n",
       "      <th></th>\n",
       "      <th>row.names</th>\n",
       "      <th>sbp</th>\n",
       "      <th>tobacco</th>\n",
       "      <th>ldl</th>\n",
       "      <th>adiposity</th>\n",
       "      <th>famhist</th>\n",
       "      <th>typea</th>\n",
       "      <th>obesity</th>\n",
       "      <th>alcohol</th>\n",
       "      <th>age</th>\n",
       "      <th>chd</th>\n",
       "    </tr>\n",
       "  </thead>\n",
       "  <tbody>\n",
       "    <tr>\n",
       "      <th>457</th>\n",
       "      <td>459</td>\n",
       "      <td>214</td>\n",
       "      <td>0.4</td>\n",
       "      <td>5.98</td>\n",
       "      <td>31.72</td>\n",
       "      <td>Absent</td>\n",
       "      <td>64</td>\n",
       "      <td>28.45</td>\n",
       "      <td>0.00</td>\n",
       "      <td>58</td>\n",
       "      <td>0</td>\n",
       "    </tr>\n",
       "    <tr>\n",
       "      <th>458</th>\n",
       "      <td>460</td>\n",
       "      <td>182</td>\n",
       "      <td>4.2</td>\n",
       "      <td>4.41</td>\n",
       "      <td>32.10</td>\n",
       "      <td>Absent</td>\n",
       "      <td>52</td>\n",
       "      <td>28.61</td>\n",
       "      <td>18.72</td>\n",
       "      <td>52</td>\n",
       "      <td>1</td>\n",
       "    </tr>\n",
       "    <tr>\n",
       "      <th>459</th>\n",
       "      <td>461</td>\n",
       "      <td>108</td>\n",
       "      <td>3.0</td>\n",
       "      <td>1.59</td>\n",
       "      <td>15.23</td>\n",
       "      <td>Absent</td>\n",
       "      <td>40</td>\n",
       "      <td>20.09</td>\n",
       "      <td>26.64</td>\n",
       "      <td>55</td>\n",
       "      <td>0</td>\n",
       "    </tr>\n",
       "    <tr>\n",
       "      <th>460</th>\n",
       "      <td>462</td>\n",
       "      <td>118</td>\n",
       "      <td>5.4</td>\n",
       "      <td>11.61</td>\n",
       "      <td>30.79</td>\n",
       "      <td>Absent</td>\n",
       "      <td>64</td>\n",
       "      <td>27.35</td>\n",
       "      <td>23.97</td>\n",
       "      <td>40</td>\n",
       "      <td>0</td>\n",
       "    </tr>\n",
       "    <tr>\n",
       "      <th>461</th>\n",
       "      <td>463</td>\n",
       "      <td>132</td>\n",
       "      <td>0.0</td>\n",
       "      <td>4.82</td>\n",
       "      <td>33.41</td>\n",
       "      <td>Present</td>\n",
       "      <td>62</td>\n",
       "      <td>14.70</td>\n",
       "      <td>0.00</td>\n",
       "      <td>46</td>\n",
       "      <td>1</td>\n",
       "    </tr>\n",
       "  </tbody>\n",
       "</table>\n",
       "</div>"
      ],
      "text/plain": [
       "     row.names  sbp  tobacco    ldl  adiposity  famhist  typea  obesity  \\\n",
       "457        459  214      0.4   5.98      31.72   Absent     64    28.45   \n",
       "458        460  182      4.2   4.41      32.10   Absent     52    28.61   \n",
       "459        461  108      3.0   1.59      15.23   Absent     40    20.09   \n",
       "460        462  118      5.4  11.61      30.79   Absent     64    27.35   \n",
       "461        463  132      0.0   4.82      33.41  Present     62    14.70   \n",
       "\n",
       "     alcohol  age  chd  \n",
       "457     0.00   58    0  \n",
       "458    18.72   52    1  \n",
       "459    26.64   55    0  \n",
       "460    23.97   40    0  \n",
       "461     0.00   46    1  "
      ]
     },
     "execution_count": 11,
     "metadata": {},
     "output_type": "execute_result"
    }
   ],
   "source": [
    "# getting last 5 records using slicing\n",
    "data[-5:]"
   ]
  },
  {
   "cell_type": "code",
   "execution_count": 12,
   "id": "89eacb47",
   "metadata": {},
   "outputs": [
    {
     "data": {
      "text/html": [
       "<div>\n",
       "<style scoped>\n",
       "    .dataframe tbody tr th:only-of-type {\n",
       "        vertical-align: middle;\n",
       "    }\n",
       "\n",
       "    .dataframe tbody tr th {\n",
       "        vertical-align: top;\n",
       "    }\n",
       "\n",
       "    .dataframe thead th {\n",
       "        text-align: right;\n",
       "    }\n",
       "</style>\n",
       "<table border=\"1\" class=\"dataframe\">\n",
       "  <thead>\n",
       "    <tr style=\"text-align: right;\">\n",
       "      <th></th>\n",
       "      <th>row.names</th>\n",
       "      <th>sbp</th>\n",
       "      <th>tobacco</th>\n",
       "      <th>ldl</th>\n",
       "      <th>adiposity</th>\n",
       "      <th>famhist</th>\n",
       "      <th>typea</th>\n",
       "      <th>obesity</th>\n",
       "      <th>alcohol</th>\n",
       "      <th>age</th>\n",
       "      <th>chd</th>\n",
       "    </tr>\n",
       "  </thead>\n",
       "  <tbody>\n",
       "    <tr>\n",
       "      <th>457</th>\n",
       "      <td>459</td>\n",
       "      <td>214</td>\n",
       "      <td>0.4</td>\n",
       "      <td>5.98</td>\n",
       "      <td>31.72</td>\n",
       "      <td>Absent</td>\n",
       "      <td>64</td>\n",
       "      <td>28.45</td>\n",
       "      <td>0.00</td>\n",
       "      <td>58</td>\n",
       "      <td>0</td>\n",
       "    </tr>\n",
       "    <tr>\n",
       "      <th>458</th>\n",
       "      <td>460</td>\n",
       "      <td>182</td>\n",
       "      <td>4.2</td>\n",
       "      <td>4.41</td>\n",
       "      <td>32.10</td>\n",
       "      <td>Absent</td>\n",
       "      <td>52</td>\n",
       "      <td>28.61</td>\n",
       "      <td>18.72</td>\n",
       "      <td>52</td>\n",
       "      <td>1</td>\n",
       "    </tr>\n",
       "    <tr>\n",
       "      <th>459</th>\n",
       "      <td>461</td>\n",
       "      <td>108</td>\n",
       "      <td>3.0</td>\n",
       "      <td>1.59</td>\n",
       "      <td>15.23</td>\n",
       "      <td>Absent</td>\n",
       "      <td>40</td>\n",
       "      <td>20.09</td>\n",
       "      <td>26.64</td>\n",
       "      <td>55</td>\n",
       "      <td>0</td>\n",
       "    </tr>\n",
       "    <tr>\n",
       "      <th>460</th>\n",
       "      <td>462</td>\n",
       "      <td>118</td>\n",
       "      <td>5.4</td>\n",
       "      <td>11.61</td>\n",
       "      <td>30.79</td>\n",
       "      <td>Absent</td>\n",
       "      <td>64</td>\n",
       "      <td>27.35</td>\n",
       "      <td>23.97</td>\n",
       "      <td>40</td>\n",
       "      <td>0</td>\n",
       "    </tr>\n",
       "    <tr>\n",
       "      <th>461</th>\n",
       "      <td>463</td>\n",
       "      <td>132</td>\n",
       "      <td>0.0</td>\n",
       "      <td>4.82</td>\n",
       "      <td>33.41</td>\n",
       "      <td>Present</td>\n",
       "      <td>62</td>\n",
       "      <td>14.70</td>\n",
       "      <td>0.00</td>\n",
       "      <td>46</td>\n",
       "      <td>1</td>\n",
       "    </tr>\n",
       "  </tbody>\n",
       "</table>\n",
       "</div>"
      ],
      "text/plain": [
       "     row.names  sbp  tobacco    ldl  adiposity  famhist  typea  obesity  \\\n",
       "457        459  214      0.4   5.98      31.72   Absent     64    28.45   \n",
       "458        460  182      4.2   4.41      32.10   Absent     52    28.61   \n",
       "459        461  108      3.0   1.59      15.23   Absent     40    20.09   \n",
       "460        462  118      5.4  11.61      30.79   Absent     64    27.35   \n",
       "461        463  132      0.0   4.82      33.41  Present     62    14.70   \n",
       "\n",
       "     alcohol  age  chd  \n",
       "457     0.00   58    0  \n",
       "458    18.72   52    1  \n",
       "459    26.64   55    0  \n",
       "460    23.97   40    0  \n",
       "461     0.00   46    1  "
      ]
     },
     "execution_count": 12,
     "metadata": {},
     "output_type": "execute_result"
    }
   ],
   "source": [
    "# getting last 5 records using tail method\n",
    "data.tail()"
   ]
  },
  {
   "cell_type": "code",
   "execution_count": 13,
   "id": "b5fe75d1",
   "metadata": {},
   "outputs": [
    {
     "data": {
      "text/plain": [
       "0    Present\n",
       "1     Absent\n",
       "2    Present\n",
       "3    Present\n",
       "4    Present\n",
       "Name: famhist, dtype: object"
      ]
     },
     "execution_count": 13,
     "metadata": {},
     "output_type": "execute_result"
    }
   ],
   "source": [
    "# checking family history's top 5 values\n",
    "data['famhist'][:5]"
   ]
  },
  {
   "cell_type": "code",
   "execution_count": 14,
   "id": "2d42a1a0",
   "metadata": {},
   "outputs": [
    {
     "data": {
      "text/html": [
       "<div>\n",
       "<style scoped>\n",
       "    .dataframe tbody tr th:only-of-type {\n",
       "        vertical-align: middle;\n",
       "    }\n",
       "\n",
       "    .dataframe tbody tr th {\n",
       "        vertical-align: top;\n",
       "    }\n",
       "\n",
       "    .dataframe thead th {\n",
       "        text-align: right;\n",
       "    }\n",
       "</style>\n",
       "<table border=\"1\" class=\"dataframe\">\n",
       "  <thead>\n",
       "    <tr style=\"text-align: right;\">\n",
       "      <th></th>\n",
       "      <th>famhist</th>\n",
       "      <th>tobacco</th>\n",
       "    </tr>\n",
       "  </thead>\n",
       "  <tbody>\n",
       "    <tr>\n",
       "      <th>0</th>\n",
       "      <td>Present</td>\n",
       "      <td>12.00</td>\n",
       "    </tr>\n",
       "    <tr>\n",
       "      <th>1</th>\n",
       "      <td>Absent</td>\n",
       "      <td>0.01</td>\n",
       "    </tr>\n",
       "    <tr>\n",
       "      <th>2</th>\n",
       "      <td>Present</td>\n",
       "      <td>0.08</td>\n",
       "    </tr>\n",
       "    <tr>\n",
       "      <th>3</th>\n",
       "      <td>Present</td>\n",
       "      <td>7.50</td>\n",
       "    </tr>\n",
       "    <tr>\n",
       "      <th>4</th>\n",
       "      <td>Present</td>\n",
       "      <td>13.60</td>\n",
       "    </tr>\n",
       "  </tbody>\n",
       "</table>\n",
       "</div>"
      ],
      "text/plain": [
       "   famhist  tobacco\n",
       "0  Present    12.00\n",
       "1   Absent     0.01\n",
       "2  Present     0.08\n",
       "3  Present     7.50\n",
       "4  Present    13.60"
      ]
     },
     "execution_count": 14,
     "metadata": {},
     "output_type": "execute_result"
    }
   ],
   "source": [
    "# checking tobacco and family history's top 5 values\n",
    "data[['famhist','tobacco']][:5]"
   ]
  },
  {
   "cell_type": "code",
   "execution_count": 15,
   "id": "a14e2ef7",
   "metadata": {},
   "outputs": [
    {
     "data": {
      "text/html": [
       "<div>\n",
       "<style scoped>\n",
       "    .dataframe tbody tr th:only-of-type {\n",
       "        vertical-align: middle;\n",
       "    }\n",
       "\n",
       "    .dataframe tbody tr th {\n",
       "        vertical-align: top;\n",
       "    }\n",
       "\n",
       "    .dataframe thead th {\n",
       "        text-align: right;\n",
       "    }\n",
       "</style>\n",
       "<table border=\"1\" class=\"dataframe\">\n",
       "  <thead>\n",
       "    <tr style=\"text-align: right;\">\n",
       "      <th></th>\n",
       "      <th>sbp</th>\n",
       "      <th>tobacco</th>\n",
       "      <th>ldl</th>\n",
       "      <th>adiposity</th>\n",
       "    </tr>\n",
       "  </thead>\n",
       "  <tbody>\n",
       "    <tr>\n",
       "      <th>4</th>\n",
       "      <td>134</td>\n",
       "      <td>13.60</td>\n",
       "      <td>3.50</td>\n",
       "      <td>27.78</td>\n",
       "    </tr>\n",
       "    <tr>\n",
       "      <th>5</th>\n",
       "      <td>132</td>\n",
       "      <td>6.20</td>\n",
       "      <td>6.47</td>\n",
       "      <td>36.21</td>\n",
       "    </tr>\n",
       "    <tr>\n",
       "      <th>6</th>\n",
       "      <td>142</td>\n",
       "      <td>4.05</td>\n",
       "      <td>3.38</td>\n",
       "      <td>16.20</td>\n",
       "    </tr>\n",
       "    <tr>\n",
       "      <th>7</th>\n",
       "      <td>114</td>\n",
       "      <td>4.08</td>\n",
       "      <td>4.59</td>\n",
       "      <td>14.60</td>\n",
       "    </tr>\n",
       "    <tr>\n",
       "      <th>8</th>\n",
       "      <td>114</td>\n",
       "      <td>0.00</td>\n",
       "      <td>3.83</td>\n",
       "      <td>19.40</td>\n",
       "    </tr>\n",
       "  </tbody>\n",
       "</table>\n",
       "</div>"
      ],
      "text/plain": [
       "   sbp  tobacco   ldl  adiposity\n",
       "4  134    13.60  3.50      27.78\n",
       "5  132     6.20  6.47      36.21\n",
       "6  142     4.05  3.38      16.20\n",
       "7  114     4.08  4.59      14.60\n",
       "8  114     0.00  3.83      19.40"
      ]
     },
     "execution_count": 15,
     "metadata": {},
     "output_type": "execute_result"
    }
   ],
   "source": [
    "# another slicing example of getting rows from 4 to 9(excluding) and columns(1 to 5 (excluding))\n",
    "data.iloc[4:9,1:5]"
   ]
  },
  {
   "cell_type": "code",
   "execution_count": 16,
   "id": "a001ea35",
   "metadata": {},
   "outputs": [
    {
     "data": {
      "text/plain": [
       "famhist\n",
       "Absent     270\n",
       "Present    192\n",
       "Name: count, dtype: int64"
      ]
     },
     "execution_count": 16,
     "metadata": {},
     "output_type": "execute_result"
    }
   ],
   "source": [
    "# count of unique family history values i.e. (Present and Absent)\n",
    "data['famhist'].value_counts()"
   ]
  },
  {
   "cell_type": "code",
   "execution_count": 17,
   "id": "56afae75",
   "metadata": {},
   "outputs": [
    {
     "data": {
      "text/plain": [
       "famhist\n",
       "Absent     58.441558\n",
       "Present    41.558442\n",
       "Name: proportion, dtype: float64"
      ]
     },
     "execution_count": 17,
     "metadata": {},
     "output_type": "execute_result"
    }
   ],
   "source": [
    "# percentage of occurances of each unique value\n",
    "data['famhist'].value_counts(normalize=True)*100"
   ]
  },
  {
   "cell_type": "code",
   "execution_count": 18,
   "id": "d1c4c705",
   "metadata": {},
   "outputs": [
    {
     "data": {
      "text/html": [
       "<div>\n",
       "<style scoped>\n",
       "    .dataframe tbody tr th:only-of-type {\n",
       "        vertical-align: middle;\n",
       "    }\n",
       "\n",
       "    .dataframe tbody tr th {\n",
       "        vertical-align: top;\n",
       "    }\n",
       "\n",
       "    .dataframe thead th {\n",
       "        text-align: right;\n",
       "    }\n",
       "</style>\n",
       "<table border=\"1\" class=\"dataframe\">\n",
       "  <thead>\n",
       "    <tr style=\"text-align: right;\">\n",
       "      <th>chd</th>\n",
       "      <th>0</th>\n",
       "      <th>1</th>\n",
       "    </tr>\n",
       "    <tr>\n",
       "      <th>famhist</th>\n",
       "      <th></th>\n",
       "      <th></th>\n",
       "    </tr>\n",
       "  </thead>\n",
       "  <tbody>\n",
       "    <tr>\n",
       "      <th>Absent</th>\n",
       "      <td>206</td>\n",
       "      <td>64</td>\n",
       "    </tr>\n",
       "    <tr>\n",
       "      <th>Present</th>\n",
       "      <td>96</td>\n",
       "      <td>96</td>\n",
       "    </tr>\n",
       "  </tbody>\n",
       "</table>\n",
       "</div>"
      ],
      "text/plain": [
       "chd        0   1\n",
       "famhist         \n",
       "Absent   206  64\n",
       "Present   96  96"
      ]
     },
     "execution_count": 18,
     "metadata": {},
     "output_type": "execute_result"
    }
   ],
   "source": [
    "# find occurances for the combination of values for famhist and chd columns\n",
    "pd.crosstab(data['famhist'],data['chd'])"
   ]
  },
  {
   "cell_type": "markdown",
   "id": "a2bf54fe",
   "metadata": {},
   "source": [
    "#### 1. Nearly 76.3% people who did not have any family history were CHD negative. \n",
    "#### 2. The person having family history of heart disease has 50% chances of getting CHD"
   ]
  },
  {
   "cell_type": "code",
   "execution_count": 19,
   "id": "e223828b",
   "metadata": {},
   "outputs": [
    {
     "data": {
      "text/html": [
       "<div>\n",
       "<style scoped>\n",
       "    .dataframe tbody tr th:only-of-type {\n",
       "        vertical-align: middle;\n",
       "    }\n",
       "\n",
       "    .dataframe tbody tr th {\n",
       "        vertical-align: top;\n",
       "    }\n",
       "\n",
       "    .dataframe thead th {\n",
       "        text-align: right;\n",
       "    }\n",
       "</style>\n",
       "<table border=\"1\" class=\"dataframe\">\n",
       "  <thead>\n",
       "    <tr style=\"text-align: right;\">\n",
       "      <th></th>\n",
       "      <th>alcohol</th>\n",
       "      <th>age</th>\n",
       "    </tr>\n",
       "  </thead>\n",
       "  <tbody>\n",
       "    <tr>\n",
       "      <th>42</th>\n",
       "      <td>0.00</td>\n",
       "      <td>15</td>\n",
       "    </tr>\n",
       "    <tr>\n",
       "      <th>70</th>\n",
       "      <td>0.60</td>\n",
       "      <td>15</td>\n",
       "    </tr>\n",
       "    <tr>\n",
       "      <th>13</th>\n",
       "      <td>0.97</td>\n",
       "      <td>15</td>\n",
       "    </tr>\n",
       "    <tr>\n",
       "      <th>110</th>\n",
       "      <td>2.49</td>\n",
       "      <td>16</td>\n",
       "    </tr>\n",
       "    <tr>\n",
       "      <th>162</th>\n",
       "      <td>0.00</td>\n",
       "      <td>16</td>\n",
       "    </tr>\n",
       "    <tr>\n",
       "      <th>...</th>\n",
       "      <td>...</td>\n",
       "      <td>...</td>\n",
       "    </tr>\n",
       "    <tr>\n",
       "      <th>379</th>\n",
       "      <td>1.54</td>\n",
       "      <td>64</td>\n",
       "    </tr>\n",
       "    <tr>\n",
       "      <th>276</th>\n",
       "      <td>11.83</td>\n",
       "      <td>64</td>\n",
       "    </tr>\n",
       "    <tr>\n",
       "      <th>203</th>\n",
       "      <td>19.20</td>\n",
       "      <td>64</td>\n",
       "    </tr>\n",
       "    <tr>\n",
       "      <th>228</th>\n",
       "      <td>2.06</td>\n",
       "      <td>64</td>\n",
       "    </tr>\n",
       "    <tr>\n",
       "      <th>105</th>\n",
       "      <td>108.00</td>\n",
       "      <td>64</td>\n",
       "    </tr>\n",
       "  </tbody>\n",
       "</table>\n",
       "<p>462 rows × 2 columns</p>\n",
       "</div>"
      ],
      "text/plain": [
       "     alcohol  age\n",
       "42      0.00   15\n",
       "70      0.60   15\n",
       "13      0.97   15\n",
       "110     2.49   16\n",
       "162     0.00   16\n",
       "..       ...  ...\n",
       "379     1.54   64\n",
       "276    11.83   64\n",
       "203    19.20   64\n",
       "228     2.06   64\n",
       "105   108.00   64\n",
       "\n",
       "[462 rows x 2 columns]"
      ]
     },
     "execution_count": 19,
     "metadata": {},
     "output_type": "execute_result"
    }
   ],
   "source": [
    "data[['alcohol', 'age']].sort_values(by='age')"
   ]
  },
  {
   "cell_type": "code",
   "execution_count": 20,
   "id": "36544cb3",
   "metadata": {},
   "outputs": [
    {
     "data": {
      "text/html": [
       "<div>\n",
       "<style scoped>\n",
       "    .dataframe tbody tr th:only-of-type {\n",
       "        vertical-align: middle;\n",
       "    }\n",
       "\n",
       "    .dataframe tbody tr th {\n",
       "        vertical-align: top;\n",
       "    }\n",
       "\n",
       "    .dataframe thead th {\n",
       "        text-align: right;\n",
       "    }\n",
       "</style>\n",
       "<table border=\"1\" class=\"dataframe\">\n",
       "  <thead>\n",
       "    <tr style=\"text-align: right;\">\n",
       "      <th></th>\n",
       "      <th>obesity</th>\n",
       "      <th>age</th>\n",
       "    </tr>\n",
       "  </thead>\n",
       "  <tbody>\n",
       "    <tr>\n",
       "      <th>42</th>\n",
       "      <td>22.15</td>\n",
       "      <td>15</td>\n",
       "    </tr>\n",
       "    <tr>\n",
       "      <th>70</th>\n",
       "      <td>19.15</td>\n",
       "      <td>15</td>\n",
       "    </tr>\n",
       "    <tr>\n",
       "      <th>13</th>\n",
       "      <td>23.63</td>\n",
       "      <td>15</td>\n",
       "    </tr>\n",
       "    <tr>\n",
       "      <th>110</th>\n",
       "      <td>25.51</td>\n",
       "      <td>16</td>\n",
       "    </tr>\n",
       "    <tr>\n",
       "      <th>162</th>\n",
       "      <td>22.16</td>\n",
       "      <td>16</td>\n",
       "    </tr>\n",
       "    <tr>\n",
       "      <th>...</th>\n",
       "      <td>...</td>\n",
       "      <td>...</td>\n",
       "    </tr>\n",
       "    <tr>\n",
       "      <th>379</th>\n",
       "      <td>33.17</td>\n",
       "      <td>64</td>\n",
       "    </tr>\n",
       "    <tr>\n",
       "      <th>276</th>\n",
       "      <td>28.75</td>\n",
       "      <td>64</td>\n",
       "    </tr>\n",
       "    <tr>\n",
       "      <th>203</th>\n",
       "      <td>23.81</td>\n",
       "      <td>64</td>\n",
       "    </tr>\n",
       "    <tr>\n",
       "      <th>228</th>\n",
       "      <td>27.25</td>\n",
       "      <td>64</td>\n",
       "    </tr>\n",
       "    <tr>\n",
       "      <th>105</th>\n",
       "      <td>26.64</td>\n",
       "      <td>64</td>\n",
       "    </tr>\n",
       "  </tbody>\n",
       "</table>\n",
       "<p>462 rows × 2 columns</p>\n",
       "</div>"
      ],
      "text/plain": [
       "     obesity  age\n",
       "42     22.15   15\n",
       "70     19.15   15\n",
       "13     23.63   15\n",
       "110    25.51   16\n",
       "162    22.16   16\n",
       "..       ...  ...\n",
       "379    33.17   64\n",
       "276    28.75   64\n",
       "203    23.81   64\n",
       "228    27.25   64\n",
       "105    26.64   64\n",
       "\n",
       "[462 rows x 2 columns]"
      ]
     },
     "execution_count": 20,
     "metadata": {},
     "output_type": "execute_result"
    }
   ],
   "source": [
    "data[['obesity', 'age']].sort_values(by='age')"
   ]
  },
  {
   "cell_type": "code",
   "execution_count": 21,
   "id": "f24601e6",
   "metadata": {},
   "outputs": [
    {
     "data": {
      "text/plain": [
       "42.816017316017316"
      ]
     },
     "execution_count": 21,
     "metadata": {},
     "output_type": "execute_result"
    }
   ],
   "source": [
    "# finding average age\n",
    "data['age'].mean()"
   ]
  },
  {
   "cell_type": "code",
   "execution_count": 22,
   "id": "5c84667a",
   "metadata": {},
   "outputs": [
    {
     "data": {
      "text/plain": [
       "chd\n",
       "0    38.854305\n",
       "1    50.293750\n",
       "Name: age, dtype: float64"
      ]
     },
     "execution_count": 22,
     "metadata": {},
     "output_type": "execute_result"
    }
   ],
   "source": [
    "data.groupby('chd')['age'].mean()"
   ]
  },
  {
   "cell_type": "markdown",
   "id": "b14a396e",
   "metadata": {},
   "source": [
    "#### Average age of getting CHD is 50."
   ]
  },
  {
   "cell_type": "markdown",
   "id": "8f5995e5",
   "metadata": {},
   "source": [
    "### draw a barplot to show number of persons having CHD or not in comparison to having family history or not"
   ]
  },
  {
   "cell_type": "code",
   "execution_count": 23,
   "id": "afed7b0c",
   "metadata": {},
   "outputs": [
    {
     "data": {
      "text/plain": [
       "<Axes: xlabel='chd', ylabel='count'>"
      ]
     },
     "execution_count": 23,
     "metadata": {},
     "output_type": "execute_result"
    },
    {
     "data": {
      "image/png": "[encoded data removed]",
      "text/plain": [
       "<Figure size 640x480 with 1 Axes>"
      ]
     },
     "metadata": {},
     "output_type": "display_data"
    }
   ],
   "source": [
    "sns.countplot(x='chd', hue='famhist', data=data, palette='Set2')\n"
   ]
  },
  {
   "cell_type": "markdown",
   "id": "2c42fb25",
   "metadata": {},
   "source": [
    "## Encoding famhist column using 'map'"
   ]
  },
  {
   "cell_type": "code",
   "execution_count": 24,
   "id": "3bb85b1f",
   "metadata": {},
   "outputs": [
    {
     "data": {
      "text/plain": [
       "0      Present\n",
       "1       Absent\n",
       "2      Present\n",
       "3      Present\n",
       "4      Present\n",
       "        ...   \n",
       "457     Absent\n",
       "458     Absent\n",
       "459     Absent\n",
       "460     Absent\n",
       "461    Present\n",
       "Name: famhist, Length: 462, dtype: object"
      ]
     },
     "execution_count": 24,
     "metadata": {},
     "output_type": "execute_result"
    }
   ],
   "source": [
    "data['famhist']"
   ]
  },
  {
   "cell_type": "code",
   "execution_count": 25,
   "id": "a3018d41",
   "metadata": {},
   "outputs": [],
   "source": [
    "data['famhist'] = data['famhist'].map({'Present': 1, 'Absent': 0})"
   ]
  },
  {
   "cell_type": "code",
   "execution_count": 26,
   "id": "be9f51f6",
   "metadata": {},
   "outputs": [
    {
     "data": {
      "text/plain": [
       "0      1\n",
       "1      0\n",
       "2      1\n",
       "3      1\n",
       "4      1\n",
       "      ..\n",
       "457    0\n",
       "458    0\n",
       "459    0\n",
       "460    0\n",
       "461    1\n",
       "Name: famhist, Length: 462, dtype: int64"
      ]
     },
     "execution_count": 26,
     "metadata": {},
     "output_type": "execute_result"
    }
   ],
   "source": [
    "data['famhist']"
   ]
  },
  {
   "cell_type": "markdown",
   "id": "78287901",
   "metadata": {},
   "source": [
    "## Correlation"
   ]
  },
  {
   "cell_type": "code",
   "execution_count": 27,
   "id": "f8449cd0",
   "metadata": {},
   "outputs": [
    {
     "data": {
      "text/html": [
       "<div>\n",
       "<style scoped>\n",
       "    .dataframe tbody tr th:only-of-type {\n",
       "        vertical-align: middle;\n",
       "    }\n",
       "\n",
       "    .dataframe tbody tr th {\n",
       "        vertical-align: top;\n",
       "    }\n",
       "\n",
       "    .dataframe thead th {\n",
       "        text-align: right;\n",
       "    }\n",
       "</style>\n",
       "<table border=\"1\" class=\"dataframe\">\n",
       "  <thead>\n",
       "    <tr style=\"text-align: right;\">\n",
       "      <th></th>\n",
       "      <th>row.names</th>\n",
       "      <th>sbp</th>\n",
       "      <th>tobacco</th>\n",
       "      <th>ldl</th>\n",
       "      <th>adiposity</th>\n",
       "      <th>famhist</th>\n",
       "      <th>typea</th>\n",
       "      <th>obesity</th>\n",
       "      <th>alcohol</th>\n",
       "      <th>age</th>\n",
       "      <th>chd</th>\n",
       "    </tr>\n",
       "  </thead>\n",
       "  <tbody>\n",
       "    <tr>\n",
       "      <th>row.names</th>\n",
       "      <td>1.000000</td>\n",
       "      <td>0.171583</td>\n",
       "      <td>-0.044813</td>\n",
       "      <td>-0.064014</td>\n",
       "      <td>0.033851</td>\n",
       "      <td>0.019941</td>\n",
       "      <td>-0.147769</td>\n",
       "      <td>-0.026758</td>\n",
       "      <td>0.088825</td>\n",
       "      <td>-0.014064</td>\n",
       "      <td>-0.063808</td>\n",
       "    </tr>\n",
       "    <tr>\n",
       "      <th>sbp</th>\n",
       "      <td>0.171583</td>\n",
       "      <td>1.000000</td>\n",
       "      <td>0.212247</td>\n",
       "      <td>0.158296</td>\n",
       "      <td>0.356500</td>\n",
       "      <td>0.085645</td>\n",
       "      <td>-0.057454</td>\n",
       "      <td>0.238067</td>\n",
       "      <td>0.140096</td>\n",
       "      <td>0.388771</td>\n",
       "      <td>0.192354</td>\n",
       "    </tr>\n",
       "    <tr>\n",
       "      <th>tobacco</th>\n",
       "      <td>-0.044813</td>\n",
       "      <td>0.212247</td>\n",
       "      <td>1.000000</td>\n",
       "      <td>0.158905</td>\n",
       "      <td>0.286640</td>\n",
       "      <td>0.088601</td>\n",
       "      <td>-0.014608</td>\n",
       "      <td>0.124529</td>\n",
       "      <td>0.200813</td>\n",
       "      <td>0.450330</td>\n",
       "      <td>0.299718</td>\n",
       "    </tr>\n",
       "    <tr>\n",
       "      <th>ldl</th>\n",
       "      <td>-0.064014</td>\n",
       "      <td>0.158296</td>\n",
       "      <td>0.158905</td>\n",
       "      <td>1.000000</td>\n",
       "      <td>0.440432</td>\n",
       "      <td>0.161353</td>\n",
       "      <td>0.044048</td>\n",
       "      <td>0.330506</td>\n",
       "      <td>-0.033403</td>\n",
       "      <td>0.311799</td>\n",
       "      <td>0.263053</td>\n",
       "    </tr>\n",
       "    <tr>\n",
       "      <th>adiposity</th>\n",
       "      <td>0.033851</td>\n",
       "      <td>0.356500</td>\n",
       "      <td>0.286640</td>\n",
       "      <td>0.440432</td>\n",
       "      <td>1.000000</td>\n",
       "      <td>0.181721</td>\n",
       "      <td>-0.043144</td>\n",
       "      <td>0.716556</td>\n",
       "      <td>0.100330</td>\n",
       "      <td>0.625954</td>\n",
       "      <td>0.254121</td>\n",
       "    </tr>\n",
       "    <tr>\n",
       "      <th>famhist</th>\n",
       "      <td>0.019941</td>\n",
       "      <td>0.085645</td>\n",
       "      <td>0.088601</td>\n",
       "      <td>0.161353</td>\n",
       "      <td>0.181721</td>\n",
       "      <td>1.000000</td>\n",
       "      <td>0.044809</td>\n",
       "      <td>0.115595</td>\n",
       "      <td>0.080520</td>\n",
       "      <td>0.239667</td>\n",
       "      <td>0.272373</td>\n",
       "    </tr>\n",
       "    <tr>\n",
       "      <th>typea</th>\n",
       "      <td>-0.147769</td>\n",
       "      <td>-0.057454</td>\n",
       "      <td>-0.014608</td>\n",
       "      <td>0.044048</td>\n",
       "      <td>-0.043144</td>\n",
       "      <td>0.044809</td>\n",
       "      <td>1.000000</td>\n",
       "      <td>0.074006</td>\n",
       "      <td>0.039498</td>\n",
       "      <td>-0.102606</td>\n",
       "      <td>0.103156</td>\n",
       "    </tr>\n",
       "    <tr>\n",
       "      <th>obesity</th>\n",
       "      <td>-0.026758</td>\n",
       "      <td>0.238067</td>\n",
       "      <td>0.124529</td>\n",
       "      <td>0.330506</td>\n",
       "      <td>0.716556</td>\n",
       "      <td>0.115595</td>\n",
       "      <td>0.074006</td>\n",
       "      <td>1.000000</td>\n",
       "      <td>0.051620</td>\n",
       "      <td>0.291777</td>\n",
       "      <td>0.100095</td>\n",
       "    </tr>\n",
       "    <tr>\n",
       "      <th>alcohol</th>\n",
       "      <td>0.088825</td>\n",
       "      <td>0.140096</td>\n",
       "      <td>0.200813</td>\n",
       "      <td>-0.033403</td>\n",
       "      <td>0.100330</td>\n",
       "      <td>0.080520</td>\n",
       "      <td>0.039498</td>\n",
       "      <td>0.051620</td>\n",
       "      <td>1.000000</td>\n",
       "      <td>0.101125</td>\n",
       "      <td>0.062531</td>\n",
       "    </tr>\n",
       "    <tr>\n",
       "      <th>age</th>\n",
       "      <td>-0.014064</td>\n",
       "      <td>0.388771</td>\n",
       "      <td>0.450330</td>\n",
       "      <td>0.311799</td>\n",
       "      <td>0.625954</td>\n",
       "      <td>0.239667</td>\n",
       "      <td>-0.102606</td>\n",
       "      <td>0.291777</td>\n",
       "      <td>0.101125</td>\n",
       "      <td>1.000000</td>\n",
       "      <td>0.372973</td>\n",
       "    </tr>\n",
       "    <tr>\n",
       "      <th>chd</th>\n",
       "      <td>-0.063808</td>\n",
       "      <td>0.192354</td>\n",
       "      <td>0.299718</td>\n",
       "      <td>0.263053</td>\n",
       "      <td>0.254121</td>\n",
       "      <td>0.272373</td>\n",
       "      <td>0.103156</td>\n",
       "      <td>0.100095</td>\n",
       "      <td>0.062531</td>\n",
       "      <td>0.372973</td>\n",
       "      <td>1.000000</td>\n",
       "    </tr>\n",
       "  </tbody>\n",
       "</table>\n",
       "</div>"
      ],
      "text/plain": [
       "           row.names       sbp   tobacco       ldl  adiposity   famhist  \\\n",
       "row.names   1.000000  0.171583 -0.044813 -0.064014   0.033851  0.019941   \n",
       "sbp         0.171583  1.000000  0.212247  0.158296   0.356500  0.085645   \n",
       "tobacco    -0.044813  0.212247  1.000000  0.158905   0.286640  0.088601   \n",
       "ldl        -0.064014  0.158296  0.158905  1.000000   0.440432  0.161353   \n",
       "adiposity   0.033851  0.356500  0.286640  0.440432   1.000000  0.181721   \n",
       "famhist     0.019941  0.085645  0.088601  0.161353   0.181721  1.000000   \n",
       "typea      -0.147769 -0.057454 -0.014608  0.044048  -0.043144  0.044809   \n",
       "obesity    -0.026758  0.238067  0.124529  0.330506   0.716556  0.115595   \n",
       "alcohol     0.088825  0.140096  0.200813 -0.033403   0.100330  0.080520   \n",
       "age        -0.014064  0.388771  0.450330  0.311799   0.625954  0.239667   \n",
       "chd        -0.063808  0.192354  0.299718  0.263053   0.254121  0.272373   \n",
       "\n",
       "              typea   obesity   alcohol       age       chd  \n",
       "row.names -0.147769 -0.026758  0.088825 -0.014064 -0.063808  \n",
       "sbp       -0.057454  0.238067  0.140096  0.388771  0.192354  \n",
       "tobacco   -0.014608  0.124529  0.200813  0.450330  0.299718  \n",
       "ldl        0.044048  0.330506 -0.033403  0.311799  0.263053  \n",
       "adiposity -0.043144  0.716556  0.100330  0.625954  0.254121  \n",
       "famhist    0.044809  0.115595  0.080520  0.239667  0.272373  \n",
       "typea      1.000000  0.074006  0.039498 -0.102606  0.103156  \n",
       "obesity    0.074006  1.000000  0.051620  0.291777  0.100095  \n",
       "alcohol    0.039498  0.051620  1.000000  0.101125  0.062531  \n",
       "age       -0.102606  0.291777  0.101125  1.000000  0.372973  \n",
       "chd        0.103156  0.100095  0.062531  0.372973  1.000000  "
      ]
     },
     "execution_count": 27,
     "metadata": {},
     "output_type": "execute_result"
    }
   ],
   "source": [
    "data.corr()"
   ]
  },
  {
   "cell_type": "markdown",
   "id": "15f1e44f",
   "metadata": {},
   "source": [
    "### Correlation between two columns"
   ]
  },
  {
   "cell_type": "code",
   "execution_count": 28,
   "id": "ac322643",
   "metadata": {},
   "outputs": [
    {
     "data": {
      "text/plain": [
       "0.3887705972765735"
      ]
     },
     "execution_count": 28,
     "metadata": {},
     "output_type": "execute_result"
    }
   ],
   "source": [
    "data['sbp'].corr(data['age'])"
   ]
  },
  {
   "cell_type": "markdown",
   "id": "8b72e728",
   "metadata": {},
   "source": [
    "#### Systolic Blood Pressure has moderately positive correlation with age."
   ]
  },
  {
   "cell_type": "markdown",
   "id": "6cba8c68",
   "metadata": {},
   "source": [
    "### Heatmap between four columns"
   ]
  },
  {
   "cell_type": "code",
   "execution_count": 29,
   "id": "3374f338",
   "metadata": {},
   "outputs": [],
   "source": [
    "columns_to_heatmap = data[['sbp','obesity','age','ldl']]"
   ]
  },
  {
   "cell_type": "code",
   "execution_count": 30,
   "id": "7394699c",
   "metadata": {},
   "outputs": [
    {
     "data": {
      "text/plain": [
       "<Axes: >"
      ]
     },
     "execution_count": 30,
     "metadata": {},
     "output_type": "execute_result"
    },
    {
     "data": {
      "image/png": "[encoded data removed]",
      "text/plain": [
       "<Figure size 640x480 with 2 Axes>"
      ]
     },
     "metadata": {},
     "output_type": "display_data"
    }
   ],
   "source": [
    "sns.heatmap(columns_to_heatmap.corr(), annot=True, cmap='coolwarm', linewidths=.5 )"
   ]
  },
  {
   "cell_type": "markdown",
   "id": "d55a58d2",
   "metadata": {},
   "source": [
    "### Distribution Plot of tobacco consumption and whether a person has CHD or not"
   ]
  },
  {
   "cell_type": "code",
   "execution_count": 31,
   "id": "42be3204",
   "metadata": {},
   "outputs": [
    {
     "data": {
      "image/png": "[encoded data removed]",
      "text/plain": [
       "<Figure size 640x480 with 1 Axes>"
      ]
     },
     "metadata": {},
     "output_type": "display_data"
    }
   ],
   "source": [
    "sns.distplot(data[data['chd'] == 1]['tobacco'], label='CHD', hist=True, kde=True, color='blue')\n",
    "sns.distplot(data[data['chd'] == 0]['tobacco'], label='No CHD', hist=True, kde=True, color='green')\n",
    "plt.xlabel('Tobacco Consumption')\n",
    "plt.ylabel('Density')\n",
    "plt.title('Distribution of Tobacco Consumption for Persons with and without CHD')\n",
    "plt.legend()\n",
    "plt.show()"
   ]
  },
  {
   "cell_type": "markdown",
   "id": "9567a2e4",
   "metadata": {},
   "source": [
    "#### As the tobacco consumption increases so is the risk of getting CHD."
   ]
  },
  {
   "cell_type": "markdown",
   "id": "3a85d211",
   "metadata": {},
   "source": [
    "### a new column of different age ranges"
   ]
  },
  {
   "cell_type": "code",
   "execution_count": 32,
   "id": "e5d9f412",
   "metadata": {},
   "outputs": [],
   "source": [
    "labels=['young','adults','mid', 'old']\n",
    "\n",
    "# Define conditions and labels\n",
    "conditions = [\n",
    "    (data['age'] >= 0) & (data_copy['age'] < 15),       \n",
    "    (data['age'] >= 15) & (data_copy['age'] < 35),\n",
    "    (data['age'] >= 35) & (data_copy['age'] < 55),\n",
    "    (data['age'] >= 55)       \n",
    "]\n",
    "data['agegroup']=np.select(conditions, labels)"
   ]
  },
  {
   "cell_type": "code",
   "execution_count": 33,
   "id": "0c006e50",
   "metadata": {},
   "outputs": [
    {
     "data": {
      "text/plain": [
       "0      mid\n",
       "1      old\n",
       "2      mid\n",
       "3      old\n",
       "4      mid\n",
       "      ... \n",
       "457    old\n",
       "458    mid\n",
       "459    old\n",
       "460    mid\n",
       "461    mid\n",
       "Name: agegroup, Length: 462, dtype: object"
      ]
     },
     "execution_count": 33,
     "metadata": {},
     "output_type": "execute_result"
    }
   ],
   "source": [
    "data['agegroup']"
   ]
  },
  {
   "cell_type": "code",
   "execution_count": 34,
   "id": "aded2170",
   "metadata": {},
   "outputs": [
    {
     "name": "stdout",
     "output_type": "stream",
     "text": [
      "<class 'pandas.core.series.Series'>\n",
      "RangeIndex: 462 entries, 0 to 461\n",
      "Series name: agegroup\n",
      "Non-Null Count  Dtype \n",
      "--------------  ----- \n",
      "462 non-null    object\n",
      "dtypes: object(1)\n",
      "memory usage: 3.7+ KB\n"
     ]
    }
   ],
   "source": [
    "data['agegroup'].info()"
   ]
  },
  {
   "cell_type": "code",
   "execution_count": 35,
   "id": "84f3a123",
   "metadata": {},
   "outputs": [
    {
     "data": {
      "text/plain": [
       "agegroup  chd\n",
       "adults    0      125\n",
       "          1       18\n",
       "mid       0      118\n",
       "          1       71\n",
       "old       1       71\n",
       "          0       59\n",
       "Name: count, dtype: int64"
      ]
     },
     "execution_count": 35,
     "metadata": {},
     "output_type": "execute_result"
    }
   ],
   "source": [
    "data.groupby('agegroup')['chd'].value_counts()"
   ]
  },
  {
   "cell_type": "code",
   "execution_count": 36,
   "id": "cf174049",
   "metadata": {},
   "outputs": [
    {
     "data": {
      "text/plain": [
       "<Axes: xlabel='agegroup', ylabel='count'>"
      ]
     },
     "execution_count": 36,
     "metadata": {},
     "output_type": "execute_result"
    },
    {
     "data": {
      "image/png": "[encoded data removed]",
      "text/plain": [
       "<Figure size 640x480 with 1 Axes>"
      ]
     },
     "metadata": {},
     "output_type": "display_data"
    }
   ],
   "source": [
    "agegroup_order = ['young','adults','mid','old']\n",
    "sns.countplot(x='agegroup', hue='chd', data=data, palette='Set2', order=agegroup_order)"
   ]
  },
  {
   "cell_type": "markdown",
   "id": "208ec1ad",
   "metadata": {},
   "source": [
    "#### It can be seen here that as a person reach his/her mid age risk of getting chd increases whereas adults have less CHD. Same can be said from the box plot below."
   ]
  },
  {
   "cell_type": "code",
   "execution_count": 37,
   "id": "0ee4e575",
   "metadata": {},
   "outputs": [
    {
     "data": {
      "text/plain": [
       "<Axes: xlabel='ldl', ylabel='agegroup'>"
      ]
     },
     "execution_count": 37,
     "metadata": {},
     "output_type": "execute_result"
    },
    {
     "data": {
      "image/png": "[encoded data removed]",
      "text/plain": [
       "<Figure size 640x480 with 1 Axes>"
      ]
     },
     "metadata": {},
     "output_type": "display_data"
    }
   ],
   "source": [
    "sns.boxplot(x='ldl', y='agegroup', data=data, order=agegroup_order)"
   ]
  }
 ],
 "metadata": {
  "kernelspec": {
   "display_name": "Python 3 (ipykernel)",
   "language": "python",
   "name": "python3"
  },
  "language_info": {
   "codemirror_mode": {
    "name": "ipython",
    "version": 3
   },
   "file_extension": ".py",
   "mimetype": "text/x-python",
   "name": "python",
   "nbconvert_exporter": "python",
   "pygments_lexer": "ipython3",
   "version": "3.10.5"
  }
 },
 "nbformat": 4,
 "nbformat_minor": 5
}
